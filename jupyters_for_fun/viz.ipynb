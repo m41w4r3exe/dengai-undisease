{
 "cells": [
  {
   "cell_type": "markdown",
   "metadata": {},
   "source": [
    "loops through all datasets and outputs plots for each column"
   ]
  },
  {
   "cell_type": "code",
   "execution_count": 9,
   "metadata": {},
   "outputs": [],
   "source": [
    "import plotly.express as px\n",
    "import pandas as pd\n",
    "\n",
    "Xt = pd.read_csv('../data/dengue_features_test.csv')\n",
    "X = pd.read_csv('../data/dengue_features_train.csv')\n",
    "y = pd.read_csv('../data/dengue_labels_train.csv')\n",
    "y['week_start_date'] = X.week_start_date\n",
    "\n",
    "datasets = [Xt, X, y]\n",
    "folders = ['testX', 'trainX', 'trainY']\n",
    "paths = ['../viz/' + f for f in folders]"
   ]
  },
  {
   "cell_type": "code",
   "execution_count": 11,
   "metadata": {},
   "outputs": [
    {
     "name": "stdout",
     "output_type": "stream",
     "text": [
      "Created fig ../viz/testX/city.png\n",
      "Created fig ../viz/testX/year.png\n",
      "Created fig ../viz/testX/weekofyear.png\n",
      "Created fig ../viz/testX/week_start_date.png\n",
      "Created fig ../viz/testX/ndvi_ne.png\n",
      "Created fig ../viz/testX/ndvi_nw.png\n",
      "Created fig ../viz/testX/ndvi_se.png\n",
      "Created fig ../viz/testX/ndvi_sw.png\n",
      "Created fig ../viz/testX/precipitation_amt_mm.png\n",
      "Created fig ../viz/testX/reanalysis_air_temp_k.png\n",
      "Created fig ../viz/testX/reanalysis_avg_temp_k.png\n",
      "Created fig ../viz/testX/reanalysis_dew_point_temp_k.png\n",
      "Created fig ../viz/testX/reanalysis_max_air_temp_k.png\n",
      "Created fig ../viz/testX/reanalysis_min_air_temp_k.png\n",
      "Created fig ../viz/testX/reanalysis_precip_amt_kg_per_m2.png\n",
      "Created fig ../viz/testX/reanalysis_relative_humidity_percent.png\n",
      "Created fig ../viz/testX/reanalysis_sat_precip_amt_mm.png\n",
      "Created fig ../viz/testX/reanalysis_specific_humidity_g_per_kg.png\n",
      "Created fig ../viz/testX/reanalysis_tdtr_k.png\n",
      "Created fig ../viz/testX/station_avg_temp_c.png\n",
      "Created fig ../viz/testX/station_diur_temp_rng_c.png\n",
      "Created fig ../viz/testX/station_max_temp_c.png\n",
      "Created fig ../viz/testX/station_min_temp_c.png\n",
      "Created fig ../viz/testX/station_precip_mm.png\n",
      "Created fig ../viz/trainX/city.png\n",
      "Created fig ../viz/trainX/year.png\n",
      "Created fig ../viz/trainX/weekofyear.png\n",
      "Created fig ../viz/trainX/week_start_date.png\n",
      "Created fig ../viz/trainX/ndvi_ne.png\n",
      "Created fig ../viz/trainX/ndvi_nw.png\n",
      "Created fig ../viz/trainX/ndvi_se.png\n",
      "Created fig ../viz/trainX/ndvi_sw.png\n",
      "Created fig ../viz/trainX/precipitation_amt_mm.png\n",
      "Created fig ../viz/trainX/reanalysis_air_temp_k.png\n",
      "Created fig ../viz/trainX/reanalysis_avg_temp_k.png\n",
      "Created fig ../viz/trainX/reanalysis_dew_point_temp_k.png\n",
      "Created fig ../viz/trainX/reanalysis_max_air_temp_k.png\n",
      "Created fig ../viz/trainX/reanalysis_min_air_temp_k.png\n",
      "Created fig ../viz/trainX/reanalysis_precip_amt_kg_per_m2.png\n",
      "Created fig ../viz/trainX/reanalysis_relative_humidity_percent.png\n",
      "Created fig ../viz/trainX/reanalysis_sat_precip_amt_mm.png\n",
      "Created fig ../viz/trainX/reanalysis_specific_humidity_g_per_kg.png\n",
      "Created fig ../viz/trainX/reanalysis_tdtr_k.png\n",
      "Created fig ../viz/trainX/station_avg_temp_c.png\n",
      "Created fig ../viz/trainX/station_diur_temp_rng_c.png\n",
      "Created fig ../viz/trainX/station_max_temp_c.png\n",
      "Created fig ../viz/trainX/station_min_temp_c.png\n",
      "Created fig ../viz/trainX/station_precip_mm.png\n",
      "Created fig ../viz/trainY/city.png\n",
      "Created fig ../viz/trainY/year.png\n",
      "Created fig ../viz/trainY/weekofyear.png\n",
      "Created fig ../viz/trainY/total_cases.png\n",
      "Created fig ../viz/trainY/week_start_date.png\n"
     ]
    }
   ],
   "source": [
    "for d, p in zip(datasets, paths):\n",
    "    for c in d.columns:\n",
    "        fig_path = p + f'/{c}.png'\n",
    "        fig = px.line(d, x='week_start_date', y=c, color='city')\n",
    "        fig.write_image(fig_path, height=800, width=1500, scale=3)\n",
    "        print(f'Created fig {fig_path}')"
   ]
  },
  {
   "cell_type": "code",
   "execution_count": null,
   "metadata": {},
   "outputs": [],
   "source": []
  }
 ],
 "metadata": {
  "kernelspec": {
   "display_name": "Python 3.8.5 ('env-dengai': venv)",
   "language": "python",
   "name": "python3"
  },
  "language_info": {
   "codemirror_mode": {
    "name": "ipython",
    "version": 3
   },
   "file_extension": ".py",
   "mimetype": "text/x-python",
   "name": "python",
   "nbconvert_exporter": "python",
   "pygments_lexer": "ipython3",
   "version": "3.8.5"
  },
  "orig_nbformat": 4,
  "vscode": {
   "interpreter": {
    "hash": "3cd3e3f9733072e9f11b0076aa5f141ba451dcf815bbc4fd2098f9e00ce4d935"
   }
  }
 },
 "nbformat": 4,
 "nbformat_minor": 2
}
